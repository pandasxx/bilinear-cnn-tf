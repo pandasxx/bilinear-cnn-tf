{
 "cells": [
  {
   "cell_type": "markdown",
   "metadata": {},
   "source": [
    "# 使用TensorFlow的简单CNN模型构建"
   ]
  },
  {
   "cell_type": "markdown",
   "metadata": {},
   "source": [
    "XX 2018.3.14"
   ]
  },
  {
   "cell_type": "markdown",
   "metadata": {},
   "source": [
    "### -----------------------静态的-------------------------------"
   ]
  },
  {
   "cell_type": "markdown",
   "metadata": {},
   "source": [
    "1.import库和自有模块"
   ]
  },
  {
   "cell_type": "code",
   "execution_count": 3,
   "metadata": {
    "collapsed": true
   },
   "outputs": [],
   "source": [
    "import os\n",
    "import random\n",
    "import tensorflow as tf \n",
    "import matplotlib.pyplot as plt\n",
    "from PIL import Image\n",
    "from data_preprocess import *\n",
    "from image_preprocess import *"
   ]
  },
  {
   "cell_type": "markdown",
   "metadata": {},
   "source": [
    "2.构建输入"
   ]
  },
  {
   "cell_type": "code",
   "execution_count": 4,
   "metadata": {
    "collapsed": true
   },
   "outputs": [],
   "source": [
    "def build_input(image_shape, n_classes):\n",
    "    with tf.name_scope('inputs'):\n",
    "        input_x = tf.placeholder(tf.float32, shape = [None, image_shape[0], image_shape[1], image_shape[2]], name = \"input_x\")\n",
    "        input_y = tf.placeholder(tf.int32, shape = [None, n_classes], name = \"input_y\")\n",
    "    \n",
    "    keep_prob = tf.placeholder(tf.float32, name = \"keep_prob\")\n",
    "\n",
    "    return input_x, input_y, keep_prob"
   ]
  },
  {
   "cell_type": "markdown",
   "metadata": {},
   "source": [
    "3.构建模型"
   ]
  },
  {
   "cell_type": "code",
   "execution_count": 5,
   "metadata": {
    "collapsed": true
   },
   "outputs": [],
   "source": [
    "def build_model(train_x, train_y, keep_prob):\n",
    "    with tf.name_scope('CNN_layers'):\n",
    "        # input 256 256 3, output 128 128 16\n",
    "        conv1 = tf.contrib.layers.conv2d(inputs = train_x, num_outputs = 16, kernel_size = 3, stride = 1, padding = 'SAME')\n",
    "        pool1 = tf.contrib.layers.max_pool2d(inputs = conv1, kernel_size = 2, stride = 2, padding = 'SAME')\n",
    "        \n",
    "        # input 128 128 16, output 64 64 32\n",
    "        conv2 = tf.contrib.layers.conv2d(inputs = pool1, num_outputs = 32, kernel_size = 3, stride = 1, padding = 'SAME')\n",
    "        pool2 = tf.contrib.layers.max_pool2d(inputs = conv2, kernel_size = 2, stride = 2, padding = 'SAME')\n",
    "    \n",
    "        # input 64 64 32, output 32 32 64\n",
    "        conv3 = tf.contrib.layers.conv2d(inputs = pool2, num_outputs = 64, kernel_size = 3, stride = 1, padding = 'SAME')\n",
    "        pool3 = tf.contrib.layers.max_pool2d(inputs = conv3, kernel_size = 2, stride = 2, padding = 'SAME')\n",
    "    \n",
    "        # input 32 32 64, output 16 16 128\n",
    "        conv4 = tf.contrib.layers.conv2d(inputs = pool3, num_outputs = 128, kernel_size = 3, stride = 1, padding = 'SAME')\n",
    "        pool4 = tf.contrib.layers.max_pool2d(inputs = conv4, kernel_size = 2, stride = 2, padding = 'SAME')\n",
    "    \n",
    "        # input 16 16 128, output 8 8 256\n",
    "        conv5 = tf.contrib.layers.conv2d(inputs = pool4, num_outputs = 256, kernel_size = 3, stride = 1, padding = 'SAME')\n",
    "        pool5 = tf.contrib.layers.max_pool2d(inputs = conv5, kernel_size = 2, stride = 2, padding = 'SAME')\n",
    "    \n",
    "        # input 8 8 256, output 4 4 512\n",
    "        conv6 = tf.contrib.layers.conv2d(inputs = pool5, num_outputs = 512, kernel_size = 3, stride = 1, padding = 'SAME')\n",
    "        pool6 = tf.contrib.layers.max_pool2d(inputs = conv6, kernel_size = 2, stride = 2, padding = 'SAME')\n",
    "    \n",
    "    with tf.name_scope('Classify_layers'):\n",
    "        # input 4 4 512, output 4*4*512\n",
    "        flatten_out = tf.contrib.layers.flatten(inputs = pool6)\n",
    "    \n",
    "        # input 4*4*512, output 1024\n",
    "        fc = tf.contrib.layers.fully_connected(flatten_out, 1024)\n",
    "        fc_out = tf.contrib.layers.dropout(fc, keep_prob)\n",
    "\n",
    "    with tf.name_scope('logits'):\n",
    "        logits = tf.contrib.layers.fully_connected(fc_out, int(train_y.shape[1]), activation_fn = None)\n",
    "    \n",
    "    with tf.name_scope('cost'):\n",
    "        cross_entropy = tf.nn.softmax_cross_entropy_with_logits(labels=train_y, logits=logits)\n",
    "        cost = tf.reduce_mean(cross_entropy, name = \"cost\")\n",
    "        tf.summary.scalar('cost', cost)\n",
    "    \n",
    "    with tf.name_scope('train'):\n",
    "        optimizer = tf.train.AdamOptimizer().minimize(cost)\n",
    "    \n",
    "    with tf.name_scope('predictions'):\n",
    "        predicted = tf.nn.softmax(logits, name = \"predicted\")\n",
    "        tf.summary.histogram('predictions', predicted)\n",
    "    \n",
    "    with tf.name_scope('accuracy'):\n",
    "        correct_pred = tf.equal(tf.argmax(predicted, 1), tf.argmax(train_y, 1))\n",
    "        accuracy = tf.reduce_mean(tf.cast(correct_pred, tf.float32), name = \"accuracy\")\n",
    "        tf.summary.histogram('cost', cost)\n",
    "    \n",
    "    merged = tf.summary.merge_all()\n",
    "    \n",
    "    \n",
    "    return optimizer, merged"
   ]
  },
  {
   "cell_type": "markdown",
   "metadata": {},
   "source": [
    "4.构建训练和log，可视化调试"
   ]
  },
  {
   "cell_type": "code",
   "execution_count": 6,
   "metadata": {},
   "outputs": [
    {
     "data": {
      "text/plain": [
       "'\\ndef print_stat(sess, cost, accuracy, test_imgs, test_labels):\\n    test_loss = sess.run(cost, feed_dict={input_x: test_imgs, input_y: test_labels, keep_prob: 1.})\\n    test_acc = sess.run(accuracy, feed_dict={input_x: test_imgs, input_y: test_labels, keep_prob: 1.})\\n    print(\"test loss: %10f   test accuracy: %10f\"%(test_loss, test_acc))\\n\\ndef train_single_loop(sess, optimizer, cost, train_imgs, train_labels, keep_prob_value):\\n    sess.run(optimizer, feed_dict={input_x: train_imgs, input_y: train_labels, keep_prob: keep_prob_value})\\n    train_loss = sess.run(cost, feed_dict={input_x: train_imgs, input_y: train_labels, keep_prob: 1.})\\n    print(\"train loss: %10f\"%(train_loss))\\n'"
      ]
     },
     "execution_count": 6,
     "metadata": {},
     "output_type": "execute_result"
    }
   ],
   "source": [
    "'''\n",
    "def print_stat(sess, cost, accuracy, test_imgs, test_labels):\n",
    "    test_loss = sess.run(cost, feed_dict={input_x: test_imgs, input_y: test_labels, keep_prob: 1.})\n",
    "    test_acc = sess.run(accuracy, feed_dict={input_x: test_imgs, input_y: test_labels, keep_prob: 1.})\n",
    "    print(\"test loss: %10f   test accuracy: %10f\"%(test_loss, test_acc))\n",
    "\n",
    "def train_single_loop(sess, optimizer, cost, train_imgs, train_labels, keep_prob_value):\n",
    "    sess.run(optimizer, feed_dict={input_x: train_imgs, input_y: train_labels, keep_prob: keep_prob_value})\n",
    "    train_loss = sess.run(cost, feed_dict={input_x: train_imgs, input_y: train_labels, keep_prob: 1.})\n",
    "    print(\"train loss: %10f\"%(train_loss))\n",
    "'''"
   ]
  },
  {
   "cell_type": "markdown",
   "metadata": {},
   "source": [
    "5.构建预测和可视化检查"
   ]
  },
  {
   "cell_type": "code",
   "execution_count": 7,
   "metadata": {
    "collapsed": true
   },
   "outputs": [],
   "source": [
    "def predict(sess, predict):\n",
    "    pass"
   ]
  },
  {
   "cell_type": "markdown",
   "metadata": {},
   "source": [
    "6.构建计算图"
   ]
  },
  {
   "cell_type": "code",
   "execution_count": 8,
   "metadata": {
    "collapsed": true
   },
   "outputs": [],
   "source": [
    "def build_graph(image_size, classes):\n",
    "    tf.reset_default_graph()\n",
    "    graph = tf.Graph()\n",
    "\n",
    "    with graph.as_default():\n",
    "\n",
    "        input_x, input_y, keep_prob = build_input([image_size, image_size, 3], classes)\n",
    "        optimizer, merged = build_model(input_x, input_y, keep_prob)\n",
    "    \n",
    "    return graph, optimizer, merged"
   ]
  },
  {
   "cell_type": "markdown",
   "metadata": {},
   "source": [
    "7.构建训练"
   ]
  },
  {
   "cell_type": "code",
   "execution_count": 9,
   "metadata": {
    "collapsed": true
   },
   "outputs": [],
   "source": [
    "def train(graph, optimizer, merged, image_size, classes, batch_size, epoch, keep_prob_value, save_model_path):\n",
    "\n",
    "    # get tensor\n",
    "    input_x = graph.get_tensor_by_name('inputs/input_x:0')\n",
    "    input_y = graph.get_tensor_by_name('inputs/input_y:0')\n",
    "    keep_prob = graph.get_tensor_by_name(\"keep_prob:0\")\n",
    "    cost = graph.get_tensor_by_name(\"cost/cost:0\")\n",
    "    predicted = graph.get_tensor_by_name(\"predictions/predicted:0\")\n",
    "    accuracy = graph.get_tensor_by_name(\"accuracy/accuracy:0\")\n",
    "\n",
    "\n",
    "    with tf.Session(graph = graph) as sess:\n",
    "        # Initializing the variables\n",
    "        sess.run(tf.global_variables_initializer())\n",
    "        train_writer = tf.summary.FileWriter(\"log/train\", sess.graph)\n",
    "        test_writer = tf.summary.FileWriter(\"log/test\")\n",
    "    \n",
    "        # read database\n",
    "        train_img_batch, train_label_batch = get_batchs(tfrecord_filename = \"train.tfrecords\", \n",
    "                                                    image_size = image_size, classes = classes,\n",
    "                                                    batch_size = batch_size, min_after_dequeue = 500)\n",
    "        test_img_batch, test_label_batch = get_batchs(tfrecord_filename = \"test.tfrecords\", \n",
    "                                                  image_size = image_size, classes = classes,\n",
    "                                                  batch_size = batch_size, min_after_dequeue = 500)\n",
    "\n",
    "        # init data read queue\n",
    "        coord = tf.train.Coordinator()\n",
    "        threads = tf.train.start_queue_runners(sess=sess, coord=coord)\n",
    "    \n",
    "        # train loop\n",
    "        for i in range(int((4512 / batch_size) * epoch)):\n",
    "            # get data\n",
    "            train_imgs, train_labels= sess.run([train_img_batch, train_label_batch])\n",
    "            test_imgs, test_labels= sess.run([test_img_batch, test_label_batch])\n",
    "\n",
    "            # train single loop\n",
    "            summary, _ = sess.run([merged, optimizer], feed_dict={input_x: train_imgs, input_y: train_labels, keep_prob: keep_prob_value})\n",
    "            train_loss = sess.run(cost, feed_dict={input_x: train_imgs, input_y: train_labels, keep_prob: 1.})\n",
    "            print(\"train loss: %10f\"%(train_loss))\n",
    "            \n",
    "            train_writer.add_summary(summary, i)\n",
    "        \n",
    "            # print test stat\n",
    "            if (i % 10 == 0):\n",
    "                print(\"########### loop %d ###########\"%(i))\n",
    "                summary, test_loss = sess.run([merged, cost], feed_dict={input_x: test_imgs, input_y: test_labels, keep_prob: 1.})\n",
    "                test_acc = sess.run(accuracy, feed_dict={input_x: test_imgs, input_y: test_labels, keep_prob: 1.})\n",
    "                print(\"test loss: %10f   test accuracy: %10f\"%(test_loss, test_acc))\n",
    "                print(\"########### loop %d ###########\"%(i))\n",
    "                \n",
    "                test_writer.add_summary(summary, i)\n",
    "                \n",
    "        train_writer.close()\n",
    "        test_writer.close()\n",
    "        \n",
    "        # Save Model\n",
    "        saver = tf.train.Saver()\n",
    "        save_path = saver.save(sess, save_model_path)\n",
    "        print(\"done\")\n",
    "    \n",
    "        # close data queue\n",
    "        coord.request_stop()\n",
    "        coord.join(threads)"
   ]
  },
  {
   "cell_type": "markdown",
   "metadata": {},
   "source": [
    "8.构建预测"
   ]
  },
  {
   "cell_type": "code",
   "execution_count": 10,
   "metadata": {
    "collapsed": true
   },
   "outputs": [],
   "source": [
    "def load_and_predict(save_model_path, image_size, classes, batch_size):\n",
    "    loaded_xcnn_graph = tf.Graph()\n",
    "\n",
    "    with tf.Session(graph=loaded_xcnn_graph) as sess:\n",
    "        loader = tf.train.import_meta_graph(save_model_path + '.meta')\n",
    "        loader.restore(sess, save_model_path)\n",
    "    \n",
    "        input_x = graph.get_tensor_by_name('inputs/input_x:0')\n",
    "        input_y = graph.get_tensor_by_name('inputs/input_y:0')\n",
    "        keep_prob = graph.get_tensor_by_name(\"keep_prob:0\")\n",
    "        cost = graph.get_tensor_by_name(\"cost/cost:0\")\n",
    "        predicted = graph.get_tensor_by_name(\"predictions/predicted:0\")\n",
    "        accuracy = graph.get_tensor_by_name(\"accuracy/accuracy:0\")\n",
    "    \n",
    "        valid_img_batch, valid_label_batch = get_batchs(tfrecord_filename = \"valid.tfrecords\", \n",
    "                                                  image_size = image_size, classes = classes,\n",
    "                                                  batch_size = batch_size, min_after_dequeue = 500)\n",
    "    \n",
    "        # init data read queue\n",
    "        coord = tf.train.Coordinator()\n",
    "        threads = tf.train.start_queue_runners(sess=sess, coord=coord)\n",
    "    \n",
    "        # get data\n",
    "        valid_imgs, valid_labels= sess.run([valid_img_batch, valid_label_batch])\n",
    "    \n",
    "        valid_loss = sess.run(cost, feed_dict={input_x: valid_imgs, input_y: valid_labels, keep_prob: 1.})\n",
    "        valid_acc = sess.run(accuracy, feed_dict={input_x: valid_imgs, input_y: valid_labels, keep_prob: 1.})\n",
    "        predicted = sess.run(predicted, feed_dict={input_x: valid_imgs, input_y: valid_labels, keep_prob: 1.})\n",
    "        predicted_display = sess.run(tf.nn.top_k(predicted, 3))\n",
    "        \n",
    "        print(\"valid loss: %10f   valid accuracy: %10f\"%(valid_loss, valid_acc))\n",
    "    \n",
    "        # close data queue\n",
    "        coord.request_stop()\n",
    "        coord.join(threads)\n",
    "        \n",
    "        return predicted, predicted_display, valid_imgs, valid_labels"
   ]
  },
  {
   "cell_type": "code",
   "execution_count": 11,
   "metadata": {
    "collapsed": true
   },
   "outputs": [],
   "source": [
    "def submit_predict(save_model_path, image_size, classes, batch_size):\n",
    "    loaded_xcnn_graph = tf.Graph()\n",
    "\n",
    "    with tf.Session(graph=loaded_xcnn_graph) as sess:\n",
    "        loader = tf.train.import_meta_graph(save_model_path + '.meta')\n",
    "        loader.restore(sess, save_model_path)\n",
    "    \n",
    "        input_x = loaded_xcnn_graph.get_tensor_by_name('input_x:0')\n",
    "        input_y = loaded_xcnn_graph.get_tensor_by_name('input_y:0')\n",
    "        keep_prob = loaded_xcnn_graph.get_tensor_by_name(\"keep_prob:0\")\n",
    "        cost = loaded_xcnn_graph.get_tensor_by_name(\"cost:0\")\n",
    "        predicted = loaded_xcnn_graph.get_tensor_by_name(\"predicted:0\")\n",
    "        accuracy = loaded_xcnn_graph.get_tensor_by_name(\"accuracy:0\")\n",
    "        \n",
    "        valid_img_batch = submit_get_batchs(tfrecord_filename = \"submit.tfrecords\", \n",
    "                                            image_size = image_size, \n",
    "                                            batch_size = batch_size)\n",
    "\n",
    "        # init data read queue\n",
    "        coord = tf.train.Coordinator()\n",
    "        threads = tf.train.start_queue_runners(sess=sess, coord=coord)\n",
    "    \n",
    "        # get data\n",
    "        valid_imgs = sess.run(valid_img_batch)\n",
    "        \n",
    "        submit_imgs = [[], [], []]\n",
    "        for item in valid_imgs:\n",
    "            if len(submit_imgs[0]) < 256:\n",
    "                submit_imgs[0].append(item)\n",
    "            elif len(submit_imgs[1]) < 256:\n",
    "                submit_imgs[1].append(item)\n",
    "            else:\n",
    "                submit_imgs[2].append(item)\n",
    "    \n",
    "        predicted_1 = sess.run(predicted, feed_dict={input_x: submit_imgs[0], keep_prob: 1.})\n",
    "        predicted_2 = sess.run(predicted, feed_dict={input_x: submit_imgs[1], keep_prob: 1.})\n",
    "        predicted_3 = sess.run(predicted, feed_dict={input_x: submit_imgs[2], keep_prob: 1.})\n",
    "        \n",
    "        predicted_1 = list(predicted_1)\n",
    "        predicted_2 = list(predicted_2)\n",
    "        predicted_3 = list(predicted_3)\n",
    "        \n",
    "        predicted_1.extend(predicted_2)\n",
    "        predicted_1.extend(predicted_3)\n",
    "        \n",
    "        # close data queue\n",
    "        coord.request_stop()\n",
    "        coord.join(threads)\n",
    "\n",
    "        return predicted_1"
   ]
  },
  {
   "cell_type": "markdown",
   "metadata": {},
   "source": [
    "### -----------------------动态的-------------------------------"
   ]
  },
  {
   "cell_type": "markdown",
   "metadata": {},
   "source": [
    "0.参数"
   ]
  },
  {
   "cell_type": "code",
   "execution_count": 12,
   "metadata": {
    "collapsed": true
   },
   "outputs": [],
   "source": [
    "image_size = 256\n",
    "classes = 12\n",
    "batch_size = 64\n",
    "keep_prob = 0.5\n",
    "epoch = 1\n",
    "\n",
    "save_model_path = './seedling_classification'"
   ]
  },
  {
   "cell_type": "markdown",
   "metadata": {},
   "source": [
    "1.建立计算图"
   ]
  },
  {
   "cell_type": "code",
   "execution_count": 13,
   "metadata": {
    "collapsed": true
   },
   "outputs": [],
   "source": [
    "graph_xcnn, optimizer, merged = build_graph(image_size = image_size, classes = classes)"
   ]
  },
  {
   "cell_type": "markdown",
   "metadata": {},
   "source": [
    "2.训练"
   ]
  },
  {
   "cell_type": "code",
   "execution_count": 15,
   "metadata": {},
   "outputs": [
    {
     "name": "stdout",
     "output_type": "stream",
     "text": [
      "train loss:   2.425668\n",
      "########### loop 0 ###########\n",
      "test loss:   2.470726   test accuracy:   0.125000\n",
      "########### loop 0 ###########\n",
      "train loss:   2.406043\n",
      "train loss:   2.417683\n",
      "train loss:   2.438784\n",
      "train loss:   2.461122\n",
      "train loss:   2.461596\n",
      "train loss:   2.467206\n",
      "train loss:   2.474240\n",
      "train loss:   2.466653\n",
      "train loss:   2.469568\n",
      "train loss:   2.460594\n",
      "########### loop 10 ###########\n",
      "test loss:   2.461864   test accuracy:   0.031250\n",
      "########### loop 10 ###########\n",
      "train loss:   2.459315\n",
      "train loss:   2.411783\n",
      "train loss:   2.444416\n",
      "train loss:   2.512764\n",
      "train loss:   2.460413\n",
      "train loss:   2.445675\n",
      "train loss:   2.510117\n",
      "train loss:   2.430634\n",
      "train loss:   2.449989\n",
      "train loss:   2.454305\n",
      "########### loop 20 ###########\n",
      "test loss:   2.459402   test accuracy:   0.140625\n",
      "########### loop 20 ###########\n",
      "train loss:   2.456223\n",
      "train loss:   2.429397\n",
      "train loss:   2.487975\n",
      "train loss:   2.438387\n",
      "train loss:   2.449452\n",
      "train loss:   2.447739\n",
      "train loss:   2.427800\n",
      "train loss:   2.464109\n",
      "train loss:   2.418803\n",
      "train loss:   2.421751\n",
      "########### loop 30 ###########\n",
      "test loss:   2.427836   test accuracy:   0.093750\n",
      "########### loop 30 ###########\n",
      "train loss:   2.444121\n",
      "train loss:   2.480070\n",
      "train loss:   2.439937\n",
      "train loss:   2.420111\n",
      "train loss:   2.443578\n",
      "train loss:   2.437663\n",
      "train loss:   2.437988\n",
      "train loss:   2.355336\n",
      "train loss:   2.484593\n",
      "train loss:   2.472054\n",
      "########### loop 40 ###########\n",
      "test loss:   2.440545   test accuracy:   0.171875\n",
      "########### loop 40 ###########\n",
      "train loss:   2.336823\n",
      "train loss:   2.367723\n",
      "train loss:   2.401590\n",
      "train loss:   2.341625\n",
      "train loss:   2.514128\n",
      "train loss:   2.373514\n",
      "train loss:   2.384154\n",
      "train loss:   2.458445\n",
      "train loss:   2.401631\n",
      "train loss:   2.347311\n",
      "########### loop 50 ###########\n",
      "test loss:   2.412794   test accuracy:   0.125000\n",
      "########### loop 50 ###########\n",
      "train loss:   2.419726\n",
      "train loss:   2.375738\n",
      "train loss:   2.380461\n",
      "train loss:   2.353351\n",
      "train loss:   2.375577\n",
      "train loss:   2.254257\n",
      "train loss:   2.337462\n",
      "train loss:   2.428152\n",
      "train loss:   2.399507\n",
      "train loss:   2.386923\n",
      "########### loop 60 ###########\n",
      "test loss:   2.430088   test accuracy:   0.062500\n",
      "########### loop 60 ###########\n",
      "train loss:   2.421081\n",
      "train loss:   2.426781\n",
      "train loss:   2.411361\n",
      "train loss:   2.353954\n",
      "train loss:   2.336328\n",
      "train loss:   2.312675\n",
      "train loss:   2.233876\n",
      "train loss:   2.363749\n",
      "train loss:   2.312483\n",
      "done\n"
     ]
    }
   ],
   "source": [
    "train(graph = graph_xcnn, \n",
    "      optimizer = optimizer, \n",
    "      merged = merged,\n",
    "      image_size = image_size, \n",
    "      classes = classes,\n",
    "      batch_size = batch_size,\n",
    "      epoch = epoch,\n",
    "      keep_prob_value = keep_prob,\n",
    "      save_model_path = save_model_path)"
   ]
  },
  {
   "cell_type": "markdown",
   "metadata": {
    "collapsed": true
   },
   "source": [
    "### -----------------------使用的-------------------------------"
   ]
  },
  {
   "cell_type": "markdown",
   "metadata": {},
   "source": [
    "1.import模块"
   ]
  },
  {
   "cell_type": "code",
   "execution_count": 25,
   "metadata": {
    "collapsed": true
   },
   "outputs": [],
   "source": [
    "import os\n",
    "import random\n",
    "import tensorflow as tf \n",
    "import matplotlib.pyplot as plt\n",
    "from PIL import Image\n",
    "from data_preprocess import *\n",
    "from image_preprocess import *\n",
    "from sklearn.preprocessing import LabelBinarizer\n",
    "import numpy as np"
   ]
  },
  {
   "cell_type": "markdown",
   "metadata": {},
   "source": [
    "2.参数和路径 "
   ]
  },
  {
   "cell_type": "code",
   "execution_count": 26,
   "metadata": {
    "collapsed": true
   },
   "outputs": [],
   "source": [
    "save_model_path = './seedling_classification'\n",
    "image_size = 256\n",
    "classes = 12\n",
    "batch_size = 32"
   ]
  },
  {
   "cell_type": "markdown",
   "metadata": {},
   "source": [
    "3.读取模型和预测"
   ]
  },
  {
   "cell_type": "code",
   "execution_count": 27,
   "metadata": {},
   "outputs": [
    {
     "name": "stdout",
     "output_type": "stream",
     "text": [
      "INFO:tensorflow:Restoring parameters from ./seedling_classification\n",
      "valid loss:   0.439547   valid accuracy:   0.812500\n",
      "INFO:tensorflow:Restoring parameters from ./seedling_classification\n"
     ]
    }
   ],
   "source": [
    "predicted, predicted_display, imgs, labels = load_and_predict(save_model_path, image_size, classes, batch_size)\n",
    "\n",
    "submit_predicted = submit_predict(save_model_path, image_size, classes, 794)"
   ]
  },
  {
   "cell_type": "code",
   "execution_count": 28,
   "metadata": {},
   "outputs": [
    {
     "name": "stdout",
     "output_type": "stream",
     "text": [
      "[  4.75925603e-18   4.34943271e-18   3.12302809e-12   1.82671565e-12\n",
      "   2.20403834e-14   1.00000000e+00   8.30667592e-19   1.58620167e-14\n",
      "   5.86227574e-18   1.15750083e-11   1.17210914e-17   2.92309205e-10]\n",
      "5\n",
      "[0 0 0 0 0 1 0 0 0 0 0 0]\n"
     ]
    }
   ],
   "source": [
    "print(predicted[1])\n",
    "print(np.argmax(predicted[1]))\n",
    "print(labels[1])"
   ]
  },
  {
   "cell_type": "code",
   "execution_count": 29,
   "metadata": {
    "collapsed": true
   },
   "outputs": [],
   "source": [
    "def _load_label_names():\n",
    "    \"\"\"\n",
    "    Load the label names from file\n",
    "    \"\"\"\n",
    "    return ['Black-grass', 'Charlock', 'Cleavers', 'Common Chickweed', 'Common wheat', 'Fat Hen', 'Loose Silky-bent', 'Maize', 'Scentless Mayweed', 'Shepherds Purse', 'Small-flowered Cranesbill', 'Sugar beet']\n",
    "\n",
    "def display_image_predictions(features, labels, predictions, n_classes):\n",
    "    label_names = _load_label_names()\n",
    "    \n",
    "    label_ids = [0, 0, 0, 0]\n",
    "    for i, label in enumerate(labels):\n",
    "        for j, label_value in enumerate(label):\n",
    "            if label_value == 1:\n",
    "                label_ids[i] = j\n",
    "            \n",
    "    \n",
    "    print(labels)\n",
    "    print(label_ids)\n",
    "\n",
    "    fig, axies = plt.subplots(nrows=4, ncols=2)\n",
    "    fig.tight_layout()\n",
    "    fig.suptitle('Softmax Predictions', fontsize=20, y=1.1)\n",
    "\n",
    "    n_predictions = 3\n",
    "    margin = 0.05\n",
    "    ind = np.arange(n_predictions)\n",
    "    width = (1. - 2. * margin) / n_predictions\n",
    "\n",
    "    for image_i, (feature, label_id, pred_indicies, pred_values) in enumerate(zip(features, label_ids, predictions.indices, predictions.values)):\n",
    "        pred_names = [label_names[pred_i] for pred_i in pred_indicies]\n",
    "        correct_name = label_names[label_id]\n",
    "\n",
    "        axies[image_i][0].imshow(feature)\n",
    "        axies[image_i][0].set_title(correct_name)\n",
    "        axies[image_i][0].set_axis_off()\n",
    "\n",
    "        axies[image_i][1].barh(ind + margin, pred_values[::-1], width)\n",
    "        axies[image_i][1].set_yticks(ind + margin)\n",
    "        axies[image_i][1].set_yticklabels(pred_names[::-1])\n",
    "        axies[image_i][1].set_xticks([0, 0.5, 1.0])"
   ]
  },
  {
   "cell_type": "code",
   "execution_count": 30,
   "metadata": {},
   "outputs": [
    {
     "name": "stdout",
     "output_type": "stream",
     "text": [
      "[[0 0 0 0 0 1 0 0 0 0 0 0]\n",
      " [0 0 0 0 0 1 0 0 0 0 0 0]\n",
      " [0 0 0 0 0 0 0 0 1 0 0 0]\n",
      " [0 0 0 1 0 0 0 0 0 0 0 0]]\n",
      "[5, 5, 8, 3]\n"
     ]
    },
    {
     "data": {
      "image/png": "[encoded data removed]",
      "text/plain": [
       "<matplotlib.figure.Figure at 0x26e9a002be0>"
      ]
     },
     "metadata": {
      "image/png": {
       "height": 319,
       "width": 378
      }
     },
     "output_type": "display_data"
    }
   ],
   "source": [
    "%matplotlib inline\n",
    "%config InlineBackend.figure_format = 'retina'\n",
    "\n",
    "display_image_predictions(imgs[:4], labels[:4], predicted_display, 3)"
   ]
  },
  {
   "cell_type": "markdown",
   "metadata": {},
   "source": [
    "# Submit"
   ]
  },
  {
   "cell_type": "code",
   "execution_count": 33,
   "metadata": {},
   "outputs": [
    {
     "name": "stdout",
     "output_type": "stream",
     "text": [
      "794\n"
     ]
    }
   ],
   "source": [
    "pic_src = \"E:/PROJECT/kaggle-seedling-classification/dataset/test/\"\n",
    "all_files = os.listdir(pic_src)\n",
    "\n",
    "print(len(submit_predicted))"
   ]
  },
  {
   "cell_type": "code",
   "execution_count": 34,
   "metadata": {
    "collapsed": true
   },
   "outputs": [],
   "source": [
    "class_index = ['Black-grass', 'Charlock', \n",
    "               'Cleavers', 'Common Chickweed', \n",
    "               'Common wheat', 'Fat Hen', \n",
    "               'Loose Silky-bent', 'Maize', \n",
    "               'Scentless Mayweed', 'Shepherds Purse', \n",
    "               'Small-flowered Cranesbill', 'Sugar beet']\n",
    "\n",
    "import csv  \n",
    "\n",
    "def as_num(x):\n",
    "    y = '{:.6f}'.format(x) # 6f表示保留6位小数点的float型\n",
    "    return(y)\n",
    "\n",
    "with open('output.csv', 'w+', newline='') as csv_file:  \n",
    "    writer = csv.writer(csv_file)\n",
    "    writer.writerow([\"file\", \"species\"])\n",
    "    for index, name in enumerate(all_files):\n",
    "        class_name = class_index[np.argmax(submit_predicted[index])]\n",
    "        writer.writerow([name, class_name])"
   ]
  },
  {
   "cell_type": "code",
   "execution_count": null,
   "metadata": {
    "collapsed": true
   },
   "outputs": [],
   "source": []
  }
 ],
 "metadata": {
  "kernelspec": {
   "display_name": "Python 3",
   "language": "python",
   "name": "python3"
  },
  "language_info": {
   "codemirror_mode": {
    "name": "ipython",
    "version": 3
   },
   "file_extension": ".py",
   "mimetype": "text/x-python",
   "name": "python",
   "nbconvert_exporter": "python",
   "pygments_lexer": "ipython3",
   "version": "3.5.4"
  }
 },
 "nbformat": 4,
 "nbformat_minor": 2
}
